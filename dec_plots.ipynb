{
 "cells": [
  {
   "cell_type": "code",
   "execution_count": null,
   "metadata": {},
   "outputs": [],
   "source": [
    "%load_ext autoreload\n",
    "%autoreload 2"
   ]
  },
  {
   "cell_type": "code",
   "execution_count": null,
   "metadata": {},
   "outputs": [],
   "source": [
    "import numpy as np\n",
    "import os, pickle\n",
    "import matplotlib.pyplot as plt\n",
    "from scipy.optimize import root_scalar, minimize_scalar\n",
    "from scipy.ndimage import gaussian_filter\n",
    "import seaborn as sns\n",
    "from mpl_toolkits.axes_grid1 import make_axes_locatable\n",
    "from matplotlib.gridspec import GridSpec\n",
    "\n",
    "from src.model import intensity, create_connect_mat\n",
    "from src.sim import sim_lif_perturbation, sim_determ_lif_recep, sim_determ_lif_recep_simp, sim_stoch_lif_recep"
   ]
  },
  {
   "cell_type": "code",
   "execution_count": null,
   "metadata": {},
   "outputs": [],
   "source": [
    "from scripts.prob_decision import *"
   ]
  },
  {
   "cell_type": "markdown",
   "metadata": {},
   "source": [
    "### Cell Type Params"
   ]
  },
  {
   "cell_type": "code",
   "execution_count": null,
   "metadata": {},
   "outputs": [],
   "source": [
    "connect_prob_huang = np.array([[0.01, 0.04, 0.03, 0],\n",
    "                               [0.03, 0.04, 0.03, 0],\n",
    "                               [0.03, 0, 0, 0.1],\n",
    "                               [0.01, 0, 0.1, 0]])\n",
    "\n",
    "# connect_strengths_huang = np.array([[30, 90, 120, 0],\n",
    "#                                     [40, 150, 60, 0],\n",
    "#                                     [27, 0, 0, 10],\n",
    "#                                     [72, 0, 10, 0]])\n",
    "\n",
    "post_syn_connect_huang = np.array([[400, 1600, 1200, 0],\n",
    "                                   [120, 160, 120, 0],\n",
    "                                   [120, 0, 0, 400],\n",
    "                                   [20, 0, 200, 0]])\n",
    "connect_prob_2 = post_syn_connect_huang / post_syn_connect_huang.sum()\n",
    "\n",
    "# N_huang = np.array([[40, 4, 4, 2]]).T"
   ]
  },
  {
   "cell_type": "code",
   "execution_count": null,
   "metadata": {},
   "outputs": [],
   "source": [
    "tcp = connect_prob_2.copy()\n",
    "#tcp[0,0] = 0.2 # altering?\n",
    "tcp "
   ]
  },
  {
   "cell_type": "code",
   "execution_count": null,
   "metadata": {},
   "outputs": [],
   "source": [
    "tcp = np.array([[1, 1, 1, 0],\n",
    "                [1, 1, 1, 0],\n",
    "                [1, 0, 0, 1],\n",
    "                [1, 0, 1, 0]])"
   ]
  },
  {
   "cell_type": "code",
   "execution_count": null,
   "metadata": {},
   "outputs": [],
   "source": [
    "Npyr = 3200\n",
    "Npv = 320\n",
    "Nsst = 320\n",
    "Nvip = 160\n",
    "\n",
    "pyr_idx = Npyr\n",
    "pv_idx = pyr_idx + 320\n",
    "sst_idx = pv_idx + 320\n",
    "vip_idx = sst_idx + 160\n",
    "\n",
    "\n",
    "ct_n = [Npyr, Npv, Nsst, Nvip]\n",
    "ct_idx = [0, pyr_idx, pv_idx, sst_idx, vip_idx]\n",
    "ct_names = [\"Pyramidal\", \"PV+\", \"SST+\", \"VIP\"]"
   ]
  },
  {
   "cell_type": "code",
   "execution_count": null,
   "metadata": {},
   "outputs": [],
   "source": [
    "# afferent indices\n",
    "pvn = 1\n",
    "sstn = 2\n",
    "vipn = 3\n",
    "\n",
    "print(f\"Number of inhibitory postsynaptic connections to PV+: {tcp[pvn,1:] @ ct_n[1:]}\")\n",
    "print(f\"Number of inhibitory postsynaptic connections to SST+: {tcp[sstn,1:] @ ct_n[1:]}\")\n",
    "print(f\"Number of inhibitory postsynaptic connections to VIP: {tcp[vipn,1:] @ ct_n[1:]}\")"
   ]
  },
  {
   "cell_type": "code",
   "execution_count": null,
   "metadata": {},
   "outputs": [],
   "source": [
    "# from Pfeffer et al. 2013\n",
    "mut_inh = np.array([[1, 1, 0.54, 0],\n",
    "                    [1, 1, 0.33, 0],\n",
    "                    [1, 0, 0, 0.15],\n",
    "                    [1, 0.22, 0.77, 0]])\n",
    "#mut_inh[2,3] = 1.8\n",
    "\n",
    "con_str = tcp * mut_inh\n",
    "print(f\"Postsynaptic inhibitory connection strength to PV+: {con_str[pvn,1:] @ ct_n[1:]}\")\n",
    "print(f\"Postsynaptic inhibitory connection strength to SST+: {con_str[sstn,1:] @ ct_n[1:]}\")\n",
    "print(f\"Postsynaptic inhibitory connection strength to VIP: {con_str[vipn,1:] @ ct_n[1:]}\")"
   ]
  },
  {
   "cell_type": "code",
   "execution_count": null,
   "metadata": {},
   "outputs": [],
   "source": [
    "connect_mat = np.zeros((4000,4000))\n",
    "\n",
    "for pre in range(1,5): # presynaptic\n",
    "    for pos in range(1,5): # postsynaptic\n",
    "        connect_mat[ct_idx[pos-1]:ct_idx[pos], ct_idx[pre-1]:ct_idx[pre]] = np.random.binomial(n=1,\n",
    "                                                                                               p=tcp[pos-1,pre-1],\n",
    "                                                                                               size=(ct_n[pos-1],ct_n[pre-1])) #* mut_inh[pos-1,pre-1]"
   ]
  },
  {
   "cell_type": "markdown",
   "metadata": {},
   "source": [
    "## Simulations"
   ]
  },
  {
   "cell_type": "code",
   "execution_count": null,
   "metadata": {},
   "outputs": [],
   "source": [
    "lif_sim,sens_input,firing_rates,reaction_time = produce_prob_decision(mu_0=40, coh=51.2, stim_len=2)"
   ]
  },
  {
   "cell_type": "code",
   "execution_count": null,
   "metadata": {},
   "outputs": [],
   "source": [
    "print(\"lifsimog\")\n",
    "print(\"Total\", np.trapezoid(-lif_sim['syn_currents']['total'][:10000,0]))\n",
    "print(\"extAMPA\", np.trapezoid(-lif_sim['syn_currents']['ext_ampa'][:10000,0]))\n",
    "print(\"AMPA\", np.trapezoid(-lif_sim['syn_currents']['ampa'][:10000,0]))\n",
    "print(\"NMDA\", np.trapezoid(-lif_sim['syn_currents']['nmda'][:10000,0]))\n",
    "print(\"GABA\", np.trapezoid(-lif_sim['syn_currents']['gaba'][:10000,0]))"
   ]
  },
  {
   "cell_type": "markdown",
   "metadata": {},
   "source": [
    "### stoch"
   ]
  },
  {
   "cell_type": "code",
   "execution_count": null,
   "metadata": {},
   "outputs": [],
   "source": [
    "lif_sim,sens_input,firing_rates,reaction_time = produce_prob_decision(mu_0=40, coh=51.2, stim_len=2, sim_func=sim_stoch_lif_recep)"
   ]
  },
  {
   "cell_type": "code",
   "execution_count": null,
   "metadata": {},
   "outputs": [],
   "source": [
    "print(\"lifsimstoch\")\n",
    "print(\"Total\", np.trapezoid(-lif_sim['syn_currents']['total'][:10000,0]))\n",
    "print(\"extAMPA\", np.trapezoid(-lif_sim['syn_currents']['ext_ampa'][:10000,0]))\n",
    "print(\"AMPA\", np.trapezoid(-lif_sim['syn_currents']['ampa'][:10000,0]))\n",
    "print(\"NMDA\", np.trapezoid(-lif_sim['syn_currents']['nmda'][:10000,0]))\n",
    "print(\"GABA\", np.trapezoid(-lif_sim['syn_currents']['gaba'][:10000,0]))"
   ]
  },
  {
   "cell_type": "code",
   "execution_count": null,
   "metadata": {},
   "outputs": [],
   "source": [
    "lif_sim,sens_input,firing_rates,reaction_time = produce_prob_decision(mu_0=40, coh=51.2, stim_len=2, Ne=200, Ni=50)"
   ]
  },
  {
   "cell_type": "code",
   "execution_count": null,
   "metadata": {},
   "outputs": [],
   "source": [
    "print(\"lifsim\")\n",
    "print(\"Total\", np.trapezoid(-lif_sim['syn_currents']['total'][:10000,0]))\n",
    "print(\"extAMPA\", np.trapezoid(-lif_sim['syn_currents']['ext_ampa'][:10000,0]))\n",
    "print(\"AMPA\", np.trapezoid(-lif_sim['syn_currents']['ampa'][:10000,0]))\n",
    "print(\"NMDA\", np.trapezoid(-lif_sim['syn_currents']['nmda'][:10000,0]))\n",
    "print(\"GABA\", np.trapezoid(-lif_sim['syn_currents']['gaba'][:10000,0]))"
   ]
  },
  {
   "cell_type": "markdown",
   "metadata": {},
   "source": [
    "### Simplified currents"
   ]
  },
  {
   "cell_type": "code",
   "execution_count": null,
   "metadata": {},
   "outputs": [],
   "source": [
    "lif_simS,sens_inputS,firing_ratesS,reaction_timeS = produce_prob_decision(mu_0=40, coh=51.2, stim_len=2, sim_func=sim_determ_lif_recep_simp)"
   ]
  },
  {
   "cell_type": "code",
   "execution_count": null,
   "metadata": {},
   "outputs": [],
   "source": [
    "def testmg(vt):\n",
    "    Ve = 0\n",
    "    return (-(0.165 * (vt - Ve)) / (1 + (np.exp(-0.062 * vt) / 3.57)))\n",
    "\n",
    "def regsimp(vt, b1, b0):\n",
    "    return b1 * vt + b0"
   ]
  },
  {
   "cell_type": "code",
   "execution_count": null,
   "metadata": {},
   "outputs": [],
   "source": [
    "print(\"lifsim\")\n",
    "print(\"Total\", np.trapezoid(-lif_sim['syn_currents']['total'][:10000,0]))\n",
    "print(\"extAMPA\", np.trapezoid(-lif_sim['syn_currents']['ext_ampa'][:10000,0]))\n",
    "print(\"AMPA\", np.trapezoid(-lif_sim['syn_currents']['ampa'][:10000,0]))\n",
    "print(\"NMDA\", np.trapezoid(-lif_sim['syn_currents']['nmda'][:10000,0]))\n",
    "print(\"GABA\", np.trapezoid(-lif_sim['syn_currents']['gaba'][:10000,0]))"
   ]
  },
  {
   "cell_type": "code",
   "execution_count": null,
   "metadata": {},
   "outputs": [],
   "source": [
    "print(\"simp\")\n",
    "print(\"Total\", np.trapezoid(lif_simS['syn_currents']['total'][:10000,0]))\n",
    "print(\"extAMPA\", np.trapezoid(lif_simS['syn_currents']['ext_ampa'][:10000,0]))\n",
    "print(\"NMDA\", np.trapezoid(lif_simS['syn_currents']['nmda'][:10000,0]))\n",
    "print(\"GABA\", np.trapezoid(lif_simS['syn_currents']['gaba'][:10000,0]))"
   ]
  },
  {
   "cell_type": "code",
   "execution_count": null,
   "metadata": {},
   "outputs": [],
   "source": [
    "fig, ax = plt.subplots(2)\n",
    "ax[0].plot(-lif_sim['syn_currents']['ext_ampa'][:,0], label='OG')\n",
    "ax[0].set_xlabel(\"OG\")\n",
    "ax[0].set_ylim((0, 1300))\n",
    "ax[1].plot(lif_simS['syn_currents']['ext_ampa'][:,0], label='simp')\n",
    "ax[1].set_xlabel(\"simplified\")\n",
    "ax[1].set_ylim((0, 1300))\n",
    "fig.tight_layout()"
   ]
  },
  {
   "cell_type": "code",
   "execution_count": null,
   "metadata": {},
   "outputs": [],
   "source": [
    "fig, ax = plt.subplots(2)\n",
    "ax[0].plot(-lif_sim['syn_currents']['nmda'][:10000,0], label='OG')\n",
    "ax[0].set_xlabel(\"OG\")\n",
    "ax[1].plot(lif_simS['syn_currents']['nmda'][:10000,0], label='simp')\n",
    "ax[1].set_xlabel(\"simplified\")\n",
    "fig.tight_layout()"
   ]
  },
  {
   "cell_type": "code",
   "execution_count": null,
   "metadata": {},
   "outputs": [],
   "source": [
    "plt.plot(-lif_sim['syn_currents']['nmda'][2000:10000,0])"
   ]
  },
  {
   "cell_type": "code",
   "execution_count": null,
   "metadata": {},
   "outputs": [],
   "source": [
    "plt.plot(lif_simS['syn_currents']['nmda'][2000:10000,0])"
   ]
  }
 ],
 "metadata": {
  "kernelspec": {
   "display_name": "mftdec",
   "language": "python",
   "name": "python3"
  },
  "language_info": {
   "codemirror_mode": {
    "name": "ipython",
    "version": 3
   },
   "file_extension": ".py",
   "mimetype": "text/x-python",
   "name": "python",
   "nbconvert_exporter": "python",
   "pygments_lexer": "ipython3",
   "version": "3.9.21"
  }
 },
 "nbformat": 4,
 "nbformat_minor": 2
}
